{
 "cells": [
  {
   "cell_type": "code",
   "execution_count": 1,
   "id": "2c18900d",
   "metadata": {},
   "outputs": [],
   "source": [
    "# import libraries \n",
    "\n",
    "from bs4 import BeautifulSoup\n",
    "import requests\n",
    "import time\n",
    "import datetime\n",
    "\n",
    "import smtplib"
   ]
  },
  {
   "cell_type": "code",
   "execution_count": 3,
   "id": "97133eb7",
   "metadata": {},
   "outputs": [
    {
     "name": "stdout",
     "output_type": "stream",
     "text": [
      "\n",
      "                   Funny Got Data MIS Data Systems Business Analyst T-Shirt\n",
      "                  \n",
      "\n",
      "                  $16.99\n",
      "                 \n"
     ]
    }
   ],
   "source": [
    "# Connect to website & \n",
    "\n",
    "\n",
    "URL = 'https://www.amazon.com/Funny-Data-Systems-Business-Analyst/dp/B07FNW9FGJ/ref=sr_1_3?dchild=1&keywords=data%2Banalyst%2Btshirt&qid=1626655184&sr=8-3&customId=B0752XJYNL&th=1'\n",
    "\n",
    "# Headers-need to do this \n",
    "# get user agent from this link : httpbin.org/get\n",
    "#\n",
    "headers = {\"User-Agent\": \"Mozilla/5.0 (Windows NT 10.0; Win64; x64) AppleWebKit/537.36 (KHTML, like Gecko) Chrome/106.0.0.0 Safari/537.36\",\"Accept-Encoding\":\"gzip, deflate\", \"Accept\":\"text/html,application/xhtml+xml,application/xml;q=0.9,*/*;q=0.8\", \"DNT\":\"1\",\"Connection\":\"close\", \"Upgrade-Insecure-Requests\":\"1\"}\n",
    "\n",
    "\n",
    "# connecting computer using the URL \n",
    "\n",
    "page = requests.get(URL, headers=headers)\n",
    "\n",
    "# bringing in the data - using beautifulsoup library\n",
    "\n",
    "soup1=BeautifulSoup(page.content,\"html.parser\") # pulling in full HTML \n",
    "\n",
    "soup2=BeautifulSoup(soup1.prettify(), \"html.parser\")  # makes everything looks better\n",
    "\n",
    "\n",
    "\n",
    "\n",
    "# getting all data that you want, specify what we actually want\n",
    "# there is also get_text and get_all, but get_text is what we will be using for now on \n",
    "title=soup2.find(id='productTitle').get_text() # pulling the product title using id \n",
    "\n",
    "price=soup2.find('span', {\"class\":\"a-offscreen\"}).get_text() # pulling the price, using the class \n",
    "\n",
    "print(title)\n",
    "print(price)\n",
    "\n",
    "\n"
   ]
  },
  {
   "cell_type": "code",
   "execution_count": 4,
   "id": "dd5f22cd",
   "metadata": {},
   "outputs": [
    {
     "name": "stdout",
     "output_type": "stream",
     "text": [
      "16.99\n",
      "Funny Got Data MIS Data Systems Business Analyst T-Shirt\n"
     ]
    }
   ],
   "source": [
    "#cleaning data, removing dollar & taking the 1st character & take until the end \n",
    "price= price.strip()[1:]\n",
    "title = title.strip()\n",
    "\n",
    "print(price)\n",
    "print(title)"
   ]
  },
  {
   "cell_type": "code",
   "execution_count": 5,
   "id": "fb0db6c9",
   "metadata": {},
   "outputs": [
    {
     "name": "stdout",
     "output_type": "stream",
     "text": [
      "2022-10-29\n"
     ]
    }
   ],
   "source": [
    "# Create a Timestamp for your output to track when data was collected\n",
    "import datetime\n",
    "\n",
    "today= datetime.date.today()\n",
    "\n",
    "print(today)"
   ]
  },
  {
   "cell_type": "code",
   "execution_count": 14,
   "id": "518cc111",
   "metadata": {},
   "outputs": [],
   "source": [
    "# create & import data into csv \n",
    "\n",
    "import csv\n",
    "\n",
    "header = ['Title', 'Price', 'Date']\n",
    "data = [title, price, today]\n",
    "\n",
    "\n",
    "# it's importtant to remember what is the type of your data is being represented, \n",
    "# either it's a list, data, array \n",
    "# type(data)  ##--> this code shown data is being represented\n",
    "\n",
    "\n",
    "# AmazonWebScraper.csv --> write name of the data \n",
    "# 'w'= write \n",
    "# newline= when we insert a data, it doesnt a space in between each csv\n",
    "#encoding = UTF8 \n",
    "with open('AmazonWebScraper.csv', 'w', newline='', encoding='UTF8') as f:\n",
    "    writer = csv.writer(f)\n",
    "    writer.writerow(header)\n",
    "    writer.writerow(data)\n"
   ]
  },
  {
   "cell_type": "code",
   "execution_count": 23,
   "id": "dd1eba32",
   "metadata": {},
   "outputs": [
    {
     "name": "stdout",
     "output_type": "stream",
     "text": [
      "                                               Title  Price        Date\n",
      "0  Funny Got Data MIS Data Systems Business Analy...  16.99  2022-10-29\n",
      "1  Funny Got Data MIS Data Systems Business Analy...  16.99  2022-10-29\n",
      "2  Funny Got Data MIS Data Systems Business Analy...  16.99  2022-10-29\n",
      "3  Funny Got Data MIS Data Systems Business Analy...  16.99  2022-10-29\n",
      "4  Funny Got Data MIS Data Systems Business Analy...  16.99  2022-10-29\n"
     ]
    }
   ],
   "source": [
    "import pandas as pd\n",
    "\n",
    "df = pd.read_csv(r'C:\\Users\\faten\\AmazonWebScraper.csv')\n",
    "\n",
    "print(df)"
   ]
  },
  {
   "cell_type": "code",
   "execution_count": 22,
   "id": "90342009",
   "metadata": {},
   "outputs": [],
   "source": [
    "# now we are appending data to the csv \n",
    "# a+ is to append the data,\n",
    "# we no longer need the header\n",
    "# we're going to the next nearest row \n",
    "\n",
    "with open('AmazonWebScraper.csv', 'a+', newline='', encoding='UTF8') as f:\n",
    "    writer = csv.writer(f)\n",
    "    writer.writerow(data)\n",
    "\n",
    "\n"
   ]
  },
  {
   "cell_type": "code",
   "execution_count": null,
   "id": "93ab5dd9",
   "metadata": {},
   "outputs": [],
   "source": [
    "#automate the data,Combine all of the above code into one function\n",
    "\n",
    "\n",
    "def check_price():\n",
    "    URL = 'https://www.amazon.com/Funny-Data-Systems-Business-Analyst/dp/B07FNW9FGJ/ref=sr_1_3?dchild=1&keywords=data%2Banalyst%2Btshirt&qid=1626655184&sr=8-3&customId=B0752XJYNL&th=1'\n",
    "\n",
    "    headers = {\"User-Agent\": \"Mozilla/5.0 (Windows NT 10.0; Win64; x64) AppleWebKit/537.36 (KHTML, like Gecko) Chrome/106.0.0.0 Safari/537.36\",\"Accept-Encoding\":\"gzip, deflate\", \"Accept\":\"text/html,application/xhtml+xml,application/xml;q=0.9,*/*;q=0.8\", \"DNT\":\"1\",\"Connection\":\"close\", \"Upgrade-Insecure-Requests\":\"1\"}\n",
    "\n",
    "    page = requests.get(URL, headers=headers)\n",
    "    \n",
    "    soup1=BeautifulSoup(page.content,\"html.parser\") # pulling in full HTML \n",
    "\n",
    "    soup2=BeautifulSoup(soup1.prettify(), \"html.parser\")  # makes everything looks better\n",
    "\n",
    "    title=soup2.find(id='productTitle').get_text() # pulling the product title using id \n",
    "\n",
    "    price=soup2.find('span', {\"class\":\"a-offscreen\"}).get_text() # pulling the price, using the class \n",
    "    \n",
    "    price = price.strip()[1:]\n",
    "    title = title.strip()\n",
    "    \n",
    "    import datetime\n",
    "    \n",
    "    today= datetime.date.today()\n",
    "    \n",
    "    import csv\n",
    "\n",
    "    header = ['Title', 'Price', 'Date']\n",
    "    data = [title, price, date]\n",
    "    \n",
    "    with open('AmazonWebScraper.csv', 'a+', newline='', encoding='UTF8') as f:\n",
    "        writer = csv.writer(f)\n",
    "        writer.writerow(data)\n",
    "\n"
   ]
  },
  {
   "cell_type": "code",
   "execution_count": null,
   "id": "036766c1",
   "metadata": {},
   "outputs": [],
   "source": [
    "#below code will execute update the data every single 24 hours\n",
    "\n",
    "while(True):\n",
    "    check_price()\n",
    "    time.sleep(86400)  # number in seconds \n"
   ]
  },
  {
   "cell_type": "code",
   "execution_count": null,
   "id": "1275b037",
   "metadata": {},
   "outputs": [],
   "source": [
    "import pandas as pd\n",
    "\n",
    "df = pd.read_csv(r'C:\\Users\\alexf\\AmazonWebScraperDataset.csv')\n",
    "\n",
    "print(df)"
   ]
  }
 ],
 "metadata": {
  "kernelspec": {
   "display_name": "Python 3 (ipykernel)",
   "language": "python",
   "name": "python3"
  },
  "language_info": {
   "codemirror_mode": {
    "name": "ipython",
    "version": 3
   },
   "file_extension": ".py",
   "mimetype": "text/x-python",
   "name": "python",
   "nbconvert_exporter": "python",
   "pygments_lexer": "ipython3",
   "version": "3.9.13"
  }
 },
 "nbformat": 4,
 "nbformat_minor": 5
}
